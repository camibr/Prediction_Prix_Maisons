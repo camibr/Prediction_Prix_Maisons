{
 "cells": [
  {
   "cell_type": "markdown",
   "id": "ec9b311d",
   "metadata": {},
   "source": [
    "L'étude consiste en la prédiction des prix des maisons en Californie.\n",
    "Le fichier de données a été récupéré sur Kaggle."
   ]
  },
  {
   "cell_type": "markdown",
   "id": "83fc1258",
   "metadata": {},
   "source": [
    "Menu :\n",
    "- Nettoyage des données\n",
    "- Régression linéaire\n",
    "- Random Forest Regressor\n",
    "- Random Forest Regressor - Grid Search\n",
    "- Camembert"
   ]
  },
  {
   "cell_type": "code",
   "execution_count": 2,
   "id": "cc18494e",
   "metadata": {},
   "outputs": [],
   "source": [
    "import pandas as pd\n",
    "import numpy as np\n",
    "import matplotlib.pyplot as plt\n",
    "import seaborn as sns"
   ]
  },
  {
   "cell_type": "markdown",
   "id": "8f034a7c",
   "metadata": {},
   "source": [
    "### Exploration des données"
   ]
  },
  {
   "cell_type": "code",
   "execution_count": 3,
   "id": "20d83354",
   "metadata": {},
   "outputs": [
    {
     "data": {
      "text/html": [
       "<div>\n",
       "<style scoped>\n",
       "    .dataframe tbody tr th:only-of-type {\n",
       "        vertical-align: middle;\n",
       "    }\n",
       "\n",
       "    .dataframe tbody tr th {\n",
       "        vertical-align: top;\n",
       "    }\n",
       "\n",
       "    .dataframe thead th {\n",
       "        text-align: right;\n",
       "    }\n",
       "</style>\n",
       "<table border=\"1\" class=\"dataframe\">\n",
       "  <thead>\n",
       "    <tr style=\"text-align: right;\">\n",
       "      <th></th>\n",
       "      <th>longitude</th>\n",
       "      <th>latitude</th>\n",
       "      <th>housing_median_age</th>\n",
       "      <th>total_rooms</th>\n",
       "      <th>total_bedrooms</th>\n",
       "      <th>population</th>\n",
       "      <th>households</th>\n",
       "      <th>median_income</th>\n",
       "      <th>median_house_value</th>\n",
       "      <th>ocean_proximity</th>\n",
       "    </tr>\n",
       "  </thead>\n",
       "  <tbody>\n",
       "    <tr>\n",
       "      <th>0</th>\n",
       "      <td>-122.23</td>\n",
       "      <td>37.88</td>\n",
       "      <td>41.0</td>\n",
       "      <td>880.0</td>\n",
       "      <td>129.0</td>\n",
       "      <td>322.0</td>\n",
       "      <td>126.0</td>\n",
       "      <td>8.3252</td>\n",
       "      <td>452600.0</td>\n",
       "      <td>NEAR BAY</td>\n",
       "    </tr>\n",
       "    <tr>\n",
       "      <th>1</th>\n",
       "      <td>-122.22</td>\n",
       "      <td>37.86</td>\n",
       "      <td>21.0</td>\n",
       "      <td>7099.0</td>\n",
       "      <td>1106.0</td>\n",
       "      <td>2401.0</td>\n",
       "      <td>1138.0</td>\n",
       "      <td>8.3014</td>\n",
       "      <td>358500.0</td>\n",
       "      <td>NEAR BAY</td>\n",
       "    </tr>\n",
       "    <tr>\n",
       "      <th>2</th>\n",
       "      <td>-122.24</td>\n",
       "      <td>37.85</td>\n",
       "      <td>52.0</td>\n",
       "      <td>1467.0</td>\n",
       "      <td>190.0</td>\n",
       "      <td>496.0</td>\n",
       "      <td>177.0</td>\n",
       "      <td>7.2574</td>\n",
       "      <td>352100.0</td>\n",
       "      <td>NEAR BAY</td>\n",
       "    </tr>\n",
       "    <tr>\n",
       "      <th>3</th>\n",
       "      <td>-122.25</td>\n",
       "      <td>37.85</td>\n",
       "      <td>52.0</td>\n",
       "      <td>1274.0</td>\n",
       "      <td>235.0</td>\n",
       "      <td>558.0</td>\n",
       "      <td>219.0</td>\n",
       "      <td>5.6431</td>\n",
       "      <td>341300.0</td>\n",
       "      <td>NEAR BAY</td>\n",
       "    </tr>\n",
       "    <tr>\n",
       "      <th>4</th>\n",
       "      <td>-122.25</td>\n",
       "      <td>37.85</td>\n",
       "      <td>52.0</td>\n",
       "      <td>1627.0</td>\n",
       "      <td>280.0</td>\n",
       "      <td>565.0</td>\n",
       "      <td>259.0</td>\n",
       "      <td>3.8462</td>\n",
       "      <td>342200.0</td>\n",
       "      <td>NEAR BAY</td>\n",
       "    </tr>\n",
       "  </tbody>\n",
       "</table>\n",
       "</div>"
      ],
      "text/plain": [
       "   longitude  latitude  housing_median_age  total_rooms  total_bedrooms  \\\n",
       "0    -122.23     37.88                41.0        880.0           129.0   \n",
       "1    -122.22     37.86                21.0       7099.0          1106.0   \n",
       "2    -122.24     37.85                52.0       1467.0           190.0   \n",
       "3    -122.25     37.85                52.0       1274.0           235.0   \n",
       "4    -122.25     37.85                52.0       1627.0           280.0   \n",
       "\n",
       "   population  households  median_income  median_house_value ocean_proximity  \n",
       "0       322.0       126.0         8.3252            452600.0        NEAR BAY  \n",
       "1      2401.0      1138.0         8.3014            358500.0        NEAR BAY  \n",
       "2       496.0       177.0         7.2574            352100.0        NEAR BAY  \n",
       "3       558.0       219.0         5.6431            341300.0        NEAR BAY  \n",
       "4       565.0       259.0         3.8462            342200.0        NEAR BAY  "
      ]
     },
     "execution_count": 3,
     "metadata": {},
     "output_type": "execute_result"
    }
   ],
   "source": [
    "pd.options.display.max_columns = None   # pour permettre de visualiser toutes les colonnes\n",
    "df = pd.read_csv(\"housing.csv\")         # lecture et chargement des données\n",
    "df.head()"
   ]
  },
  {
   "cell_type": "code",
   "execution_count": 4,
   "id": "016e6aa7",
   "metadata": {},
   "outputs": [
    {
     "name": "stdout",
     "output_type": "stream",
     "text": [
      "<class 'pandas.core.frame.DataFrame'>\n",
      "RangeIndex: 20640 entries, 0 to 20639\n",
      "Data columns (total 10 columns):\n",
      " #   Column              Non-Null Count  Dtype  \n",
      "---  ------              --------------  -----  \n",
      " 0   longitude           20640 non-null  float64\n",
      " 1   latitude            20640 non-null  float64\n",
      " 2   housing_median_age  20640 non-null  float64\n",
      " 3   total_rooms         20640 non-null  float64\n",
      " 4   total_bedrooms      20433 non-null  float64\n",
      " 5   population          20640 non-null  float64\n",
      " 6   households          20640 non-null  float64\n",
      " 7   median_income       20640 non-null  float64\n",
      " 8   median_house_value  20640 non-null  float64\n",
      " 9   ocean_proximity     20640 non-null  object \n",
      "dtypes: float64(9), object(1)\n",
      "memory usage: 1.6+ MB\n"
     ]
    }
   ],
   "source": [
    "df.info()"
   ]
  },
  {
   "cell_type": "code",
   "execution_count": 7,
   "id": "e0486501",
   "metadata": {},
   "outputs": [
    {
     "name": "stdout",
     "output_type": "stream",
     "text": [
      "<class 'pandas.core.frame.DataFrame'>\n",
      "RangeIndex: 20640 entries, 0 to 20639\n",
      "Data columns (total 10 columns):\n",
      " #   Column              Non-Null Count  Dtype   \n",
      "---  ------              --------------  -----   \n",
      " 0   longitude           20640 non-null  float64 \n",
      " 1   latitude            20640 non-null  float64 \n",
      " 2   housing_median_age  20640 non-null  float64 \n",
      " 3   total_rooms         20640 non-null  float64 \n",
      " 4   total_bedrooms      20433 non-null  float64 \n",
      " 5   population          20640 non-null  float64 \n",
      " 6   households          20640 non-null  float64 \n",
      " 7   median_income       20640 non-null  float64 \n",
      " 8   median_house_value  20640 non-null  float64 \n",
      " 9   ocean_proximity     20640 non-null  category\n",
      "dtypes: category(1), float64(9)\n",
      "memory usage: 1.4 MB\n"
     ]
    }
   ],
   "source": [
    "df['ocean_proximity'].head()\n",
    "df = df.astype({'ocean_proximity' : 'category'})   # changement de type (sera utile plus tard)\n",
    "df.info()"
   ]
  },
  {
   "cell_type": "code",
   "execution_count": 8,
   "id": "ab368b5b",
   "metadata": {},
   "outputs": [
    {
     "data": {
      "text/html": [
       "<div>\n",
       "<style scoped>\n",
       "    .dataframe tbody tr th:only-of-type {\n",
       "        vertical-align: middle;\n",
       "    }\n",
       "\n",
       "    .dataframe tbody tr th {\n",
       "        vertical-align: top;\n",
       "    }\n",
       "\n",
       "    .dataframe thead th {\n",
       "        text-align: right;\n",
       "    }\n",
       "</style>\n",
       "<table border=\"1\" class=\"dataframe\">\n",
       "  <thead>\n",
       "    <tr style=\"text-align: right;\">\n",
       "      <th></th>\n",
       "      <th>longitude</th>\n",
       "      <th>latitude</th>\n",
       "      <th>housing_median_age</th>\n",
       "      <th>total_rooms</th>\n",
       "      <th>total_bedrooms</th>\n",
       "      <th>population</th>\n",
       "      <th>households</th>\n",
       "      <th>median_income</th>\n",
       "      <th>median_house_value</th>\n",
       "      <th>ocean_proximity</th>\n",
       "    </tr>\n",
       "  </thead>\n",
       "  <tbody>\n",
       "    <tr>\n",
       "      <th>0</th>\n",
       "      <td>-122.23</td>\n",
       "      <td>37.88</td>\n",
       "      <td>41.0</td>\n",
       "      <td>880.0</td>\n",
       "      <td>129.0</td>\n",
       "      <td>322.0</td>\n",
       "      <td>126.0</td>\n",
       "      <td>8.3252</td>\n",
       "      <td>452600.0</td>\n",
       "      <td>NEAR BAY</td>\n",
       "    </tr>\n",
       "    <tr>\n",
       "      <th>1</th>\n",
       "      <td>-122.22</td>\n",
       "      <td>37.86</td>\n",
       "      <td>21.0</td>\n",
       "      <td>7099.0</td>\n",
       "      <td>1106.0</td>\n",
       "      <td>2401.0</td>\n",
       "      <td>1138.0</td>\n",
       "      <td>8.3014</td>\n",
       "      <td>358500.0</td>\n",
       "      <td>NEAR BAY</td>\n",
       "    </tr>\n",
       "    <tr>\n",
       "      <th>2</th>\n",
       "      <td>-122.24</td>\n",
       "      <td>37.85</td>\n",
       "      <td>52.0</td>\n",
       "      <td>1467.0</td>\n",
       "      <td>190.0</td>\n",
       "      <td>496.0</td>\n",
       "      <td>177.0</td>\n",
       "      <td>7.2574</td>\n",
       "      <td>352100.0</td>\n",
       "      <td>NEAR BAY</td>\n",
       "    </tr>\n",
       "    <tr>\n",
       "      <th>3</th>\n",
       "      <td>-122.25</td>\n",
       "      <td>37.85</td>\n",
       "      <td>52.0</td>\n",
       "      <td>1274.0</td>\n",
       "      <td>235.0</td>\n",
       "      <td>558.0</td>\n",
       "      <td>219.0</td>\n",
       "      <td>5.6431</td>\n",
       "      <td>341300.0</td>\n",
       "      <td>NEAR BAY</td>\n",
       "    </tr>\n",
       "    <tr>\n",
       "      <th>4</th>\n",
       "      <td>-122.25</td>\n",
       "      <td>37.85</td>\n",
       "      <td>52.0</td>\n",
       "      <td>1627.0</td>\n",
       "      <td>280.0</td>\n",
       "      <td>565.0</td>\n",
       "      <td>259.0</td>\n",
       "      <td>3.8462</td>\n",
       "      <td>342200.0</td>\n",
       "      <td>NEAR BAY</td>\n",
       "    </tr>\n",
       "    <tr>\n",
       "      <th>...</th>\n",
       "      <td>...</td>\n",
       "      <td>...</td>\n",
       "      <td>...</td>\n",
       "      <td>...</td>\n",
       "      <td>...</td>\n",
       "      <td>...</td>\n",
       "      <td>...</td>\n",
       "      <td>...</td>\n",
       "      <td>...</td>\n",
       "      <td>...</td>\n",
       "    </tr>\n",
       "    <tr>\n",
       "      <th>20629</th>\n",
       "      <td>-121.39</td>\n",
       "      <td>39.12</td>\n",
       "      <td>28.0</td>\n",
       "      <td>10035.0</td>\n",
       "      <td>1856.0</td>\n",
       "      <td>6912.0</td>\n",
       "      <td>1818.0</td>\n",
       "      <td>2.0943</td>\n",
       "      <td>108300.0</td>\n",
       "      <td>INLAND</td>\n",
       "    </tr>\n",
       "    <tr>\n",
       "      <th>20630</th>\n",
       "      <td>-121.32</td>\n",
       "      <td>39.29</td>\n",
       "      <td>11.0</td>\n",
       "      <td>2640.0</td>\n",
       "      <td>505.0</td>\n",
       "      <td>1257.0</td>\n",
       "      <td>445.0</td>\n",
       "      <td>3.5673</td>\n",
       "      <td>112000.0</td>\n",
       "      <td>INLAND</td>\n",
       "    </tr>\n",
       "    <tr>\n",
       "      <th>20631</th>\n",
       "      <td>-121.40</td>\n",
       "      <td>39.33</td>\n",
       "      <td>15.0</td>\n",
       "      <td>2655.0</td>\n",
       "      <td>493.0</td>\n",
       "      <td>1200.0</td>\n",
       "      <td>432.0</td>\n",
       "      <td>3.5179</td>\n",
       "      <td>107200.0</td>\n",
       "      <td>INLAND</td>\n",
       "    </tr>\n",
       "    <tr>\n",
       "      <th>20632</th>\n",
       "      <td>-121.45</td>\n",
       "      <td>39.26</td>\n",
       "      <td>15.0</td>\n",
       "      <td>2319.0</td>\n",
       "      <td>416.0</td>\n",
       "      <td>1047.0</td>\n",
       "      <td>385.0</td>\n",
       "      <td>3.1250</td>\n",
       "      <td>115600.0</td>\n",
       "      <td>INLAND</td>\n",
       "    </tr>\n",
       "    <tr>\n",
       "      <th>20634</th>\n",
       "      <td>-121.56</td>\n",
       "      <td>39.27</td>\n",
       "      <td>28.0</td>\n",
       "      <td>2332.0</td>\n",
       "      <td>395.0</td>\n",
       "      <td>1041.0</td>\n",
       "      <td>344.0</td>\n",
       "      <td>3.7125</td>\n",
       "      <td>116800.0</td>\n",
       "      <td>INLAND</td>\n",
       "    </tr>\n",
       "  </tbody>\n",
       "</table>\n",
       "<p>16982 rows × 10 columns</p>\n",
       "</div>"
      ],
      "text/plain": [
       "       longitude  latitude  housing_median_age  total_rooms  total_bedrooms  \\\n",
       "0        -122.23     37.88                41.0        880.0           129.0   \n",
       "1        -122.22     37.86                21.0       7099.0          1106.0   \n",
       "2        -122.24     37.85                52.0       1467.0           190.0   \n",
       "3        -122.25     37.85                52.0       1274.0           235.0   \n",
       "4        -122.25     37.85                52.0       1627.0           280.0   \n",
       "...          ...       ...                 ...          ...             ...   \n",
       "20629    -121.39     39.12                28.0      10035.0          1856.0   \n",
       "20630    -121.32     39.29                11.0       2640.0           505.0   \n",
       "20631    -121.40     39.33                15.0       2655.0           493.0   \n",
       "20632    -121.45     39.26                15.0       2319.0           416.0   \n",
       "20634    -121.56     39.27                28.0       2332.0           395.0   \n",
       "\n",
       "       population  households  median_income  median_house_value  \\\n",
       "0           322.0       126.0         8.3252            452600.0   \n",
       "1          2401.0      1138.0         8.3014            358500.0   \n",
       "2           496.0       177.0         7.2574            352100.0   \n",
       "3           558.0       219.0         5.6431            341300.0   \n",
       "4           565.0       259.0         3.8462            342200.0   \n",
       "...           ...         ...            ...                 ...   \n",
       "20629      6912.0      1818.0         2.0943            108300.0   \n",
       "20630      1257.0       445.0         3.5673            112000.0   \n",
       "20631      1200.0       432.0         3.5179            107200.0   \n",
       "20632      1047.0       385.0         3.1250            115600.0   \n",
       "20634      1041.0       344.0         3.7125            116800.0   \n",
       "\n",
       "      ocean_proximity  \n",
       "0            NEAR BAY  \n",
       "1            NEAR BAY  \n",
       "2            NEAR BAY  \n",
       "3            NEAR BAY  \n",
       "4            NEAR BAY  \n",
       "...               ...  \n",
       "20629          INLAND  \n",
       "20630          INLAND  \n",
       "20631          INLAND  \n",
       "20632          INLAND  \n",
       "20634          INLAND  \n",
       "\n",
       "[16982 rows x 10 columns]"
      ]
     },
     "execution_count": 8,
     "metadata": {},
     "output_type": "execute_result"
    }
   ],
   "source": [
    "# visualiser les données pour lesquelles la valeur médiane des maisons est > 100 000 dollars\n",
    "\n",
    "df[df['median_house_value']>100000]#.count()"
   ]
  },
  {
   "cell_type": "code",
   "execution_count": 9,
   "id": "e4b4b562",
   "metadata": {},
   "outputs": [
    {
     "data": {
      "text/plain": [
       "1.0970623858069932"
      ]
     },
     "execution_count": 9,
     "metadata": {},
     "output_type": "execute_result"
    }
   ],
   "source": [
    "# Création d'une nouvelle variable : le nb de chambres à coucher par foyer\n",
    "\n",
    "df['bedrooms_per_household'] = df['total_bedrooms']/df['households']\n",
    "df['bedrooms_per_household'].mean()\n",
    "\n",
    "# en moyenne 1 chambre à coucher par foyer (on s'attendrait à plus cependant)"
   ]
  },
  {
   "cell_type": "code",
   "execution_count": 10,
   "id": "f6003429",
   "metadata": {},
   "outputs": [
    {
     "data": {
      "text/plain": [
       "5.428999742190365"
      ]
     },
     "execution_count": 10,
     "metadata": {},
     "output_type": "execute_result"
    }
   ],
   "source": [
    "# Création d'une autre nouvelle variable : le nb de pièces par foyer\n",
    "\n",
    "df['rooms_per_household'] = df['total_rooms']/df['households']\n",
    "df['rooms_per_household'].mean()\n",
    "\n",
    "# en moyenne 5 pièces par foyer"
   ]
  },
  {
   "cell_type": "code",
   "execution_count": 11,
   "id": "c6b17f91",
   "metadata": {},
   "outputs": [
    {
     "data": {
      "text/html": [
       "<div>\n",
       "<style scoped>\n",
       "    .dataframe tbody tr th:only-of-type {\n",
       "        vertical-align: middle;\n",
       "    }\n",
       "\n",
       "    .dataframe tbody tr th {\n",
       "        vertical-align: top;\n",
       "    }\n",
       "\n",
       "    .dataframe thead th {\n",
       "        text-align: right;\n",
       "    }\n",
       "</style>\n",
       "<table border=\"1\" class=\"dataframe\">\n",
       "  <thead>\n",
       "    <tr style=\"text-align: right;\">\n",
       "      <th></th>\n",
       "      <th>housing_median_age</th>\n",
       "      <th>total_rooms</th>\n",
       "      <th>total_bedrooms</th>\n",
       "      <th>population</th>\n",
       "      <th>households</th>\n",
       "      <th>median_income</th>\n",
       "      <th>median_house_value</th>\n",
       "      <th>ocean_proximity</th>\n",
       "      <th>bedrooms_per_household</th>\n",
       "      <th>rooms_per_household</th>\n",
       "    </tr>\n",
       "  </thead>\n",
       "  <tbody>\n",
       "    <tr>\n",
       "      <th>0</th>\n",
       "      <td>41.0</td>\n",
       "      <td>880.0</td>\n",
       "      <td>129.0</td>\n",
       "      <td>322.0</td>\n",
       "      <td>126.0</td>\n",
       "      <td>8.3252</td>\n",
       "      <td>452600.0</td>\n",
       "      <td>NEAR BAY</td>\n",
       "      <td>1.023810</td>\n",
       "      <td>6.984127</td>\n",
       "    </tr>\n",
       "    <tr>\n",
       "      <th>1</th>\n",
       "      <td>21.0</td>\n",
       "      <td>7099.0</td>\n",
       "      <td>1106.0</td>\n",
       "      <td>2401.0</td>\n",
       "      <td>1138.0</td>\n",
       "      <td>8.3014</td>\n",
       "      <td>358500.0</td>\n",
       "      <td>NEAR BAY</td>\n",
       "      <td>0.971880</td>\n",
       "      <td>6.238137</td>\n",
       "    </tr>\n",
       "    <tr>\n",
       "      <th>2</th>\n",
       "      <td>52.0</td>\n",
       "      <td>1467.0</td>\n",
       "      <td>190.0</td>\n",
       "      <td>496.0</td>\n",
       "      <td>177.0</td>\n",
       "      <td>7.2574</td>\n",
       "      <td>352100.0</td>\n",
       "      <td>NEAR BAY</td>\n",
       "      <td>1.073446</td>\n",
       "      <td>8.288136</td>\n",
       "    </tr>\n",
       "    <tr>\n",
       "      <th>3</th>\n",
       "      <td>52.0</td>\n",
       "      <td>1274.0</td>\n",
       "      <td>235.0</td>\n",
       "      <td>558.0</td>\n",
       "      <td>219.0</td>\n",
       "      <td>5.6431</td>\n",
       "      <td>341300.0</td>\n",
       "      <td>NEAR BAY</td>\n",
       "      <td>1.073059</td>\n",
       "      <td>5.817352</td>\n",
       "    </tr>\n",
       "    <tr>\n",
       "      <th>4</th>\n",
       "      <td>52.0</td>\n",
       "      <td>1627.0</td>\n",
       "      <td>280.0</td>\n",
       "      <td>565.0</td>\n",
       "      <td>259.0</td>\n",
       "      <td>3.8462</td>\n",
       "      <td>342200.0</td>\n",
       "      <td>NEAR BAY</td>\n",
       "      <td>1.081081</td>\n",
       "      <td>6.281853</td>\n",
       "    </tr>\n",
       "  </tbody>\n",
       "</table>\n",
       "</div>"
      ],
      "text/plain": [
       "   housing_median_age  total_rooms  total_bedrooms  population  households  \\\n",
       "0                41.0        880.0           129.0       322.0       126.0   \n",
       "1                21.0       7099.0          1106.0      2401.0      1138.0   \n",
       "2                52.0       1467.0           190.0       496.0       177.0   \n",
       "3                52.0       1274.0           235.0       558.0       219.0   \n",
       "4                52.0       1627.0           280.0       565.0       259.0   \n",
       "\n",
       "   median_income  median_house_value ocean_proximity  bedrooms_per_household  \\\n",
       "0         8.3252            452600.0        NEAR BAY                1.023810   \n",
       "1         8.3014            358500.0        NEAR BAY                0.971880   \n",
       "2         7.2574            352100.0        NEAR BAY                1.073446   \n",
       "3         5.6431            341300.0        NEAR BAY                1.073059   \n",
       "4         3.8462            342200.0        NEAR BAY                1.081081   \n",
       "\n",
       "   rooms_per_household  \n",
       "0             6.984127  \n",
       "1             6.238137  \n",
       "2             8.288136  \n",
       "3             5.817352  \n",
       "4             6.281853  "
      ]
     },
     "execution_count": 11,
     "metadata": {},
     "output_type": "execute_result"
    }
   ],
   "source": [
    "# Supprimer du dataframe 2 variables inutiles pour notre cas d'étude (nous utilisons moins de mémoire)\n",
    "\n",
    "df = df.drop(['latitude'], axis=1)\n",
    "df = df.drop(['longitude'], axis=1)\n",
    "df.head()"
   ]
  },
  {
   "cell_type": "code",
   "execution_count": 12,
   "id": "4aec03e0",
   "metadata": {},
   "outputs": [
    {
     "data": {
      "text/html": [
       "<div>\n",
       "<style scoped>\n",
       "    .dataframe tbody tr th:only-of-type {\n",
       "        vertical-align: middle;\n",
       "    }\n",
       "\n",
       "    .dataframe tbody tr th {\n",
       "        vertical-align: top;\n",
       "    }\n",
       "\n",
       "    .dataframe thead th {\n",
       "        text-align: right;\n",
       "    }\n",
       "</style>\n",
       "<table border=\"1\" class=\"dataframe\">\n",
       "  <thead>\n",
       "    <tr style=\"text-align: right;\">\n",
       "      <th></th>\n",
       "      <th>housing_median_age</th>\n",
       "      <th>total_rooms</th>\n",
       "      <th>total_bedrooms</th>\n",
       "      <th>population</th>\n",
       "      <th>households</th>\n",
       "      <th>median_income</th>\n",
       "      <th>median_house_value</th>\n",
       "      <th>bedrooms_per_household</th>\n",
       "      <th>rooms_per_household</th>\n",
       "    </tr>\n",
       "  </thead>\n",
       "  <tbody>\n",
       "    <tr>\n",
       "      <th>count</th>\n",
       "      <td>20640.000000</td>\n",
       "      <td>20640.000000</td>\n",
       "      <td>20433.000000</td>\n",
       "      <td>20640.000000</td>\n",
       "      <td>20640.000000</td>\n",
       "      <td>20640.000000</td>\n",
       "      <td>20640.000000</td>\n",
       "      <td>20433.000000</td>\n",
       "      <td>20640.000000</td>\n",
       "    </tr>\n",
       "    <tr>\n",
       "      <th>mean</th>\n",
       "      <td>28.639486</td>\n",
       "      <td>2635.763081</td>\n",
       "      <td>537.870553</td>\n",
       "      <td>1425.476744</td>\n",
       "      <td>499.539680</td>\n",
       "      <td>3.870671</td>\n",
       "      <td>206855.816909</td>\n",
       "      <td>1.097062</td>\n",
       "      <td>5.429000</td>\n",
       "    </tr>\n",
       "    <tr>\n",
       "      <th>std</th>\n",
       "      <td>12.585558</td>\n",
       "      <td>2181.615252</td>\n",
       "      <td>421.385070</td>\n",
       "      <td>1132.462122</td>\n",
       "      <td>382.329753</td>\n",
       "      <td>1.899822</td>\n",
       "      <td>115395.615874</td>\n",
       "      <td>0.476104</td>\n",
       "      <td>2.474173</td>\n",
       "    </tr>\n",
       "    <tr>\n",
       "      <th>min</th>\n",
       "      <td>1.000000</td>\n",
       "      <td>2.000000</td>\n",
       "      <td>1.000000</td>\n",
       "      <td>3.000000</td>\n",
       "      <td>1.000000</td>\n",
       "      <td>0.499900</td>\n",
       "      <td>14999.000000</td>\n",
       "      <td>0.333333</td>\n",
       "      <td>0.846154</td>\n",
       "    </tr>\n",
       "    <tr>\n",
       "      <th>25%</th>\n",
       "      <td>18.000000</td>\n",
       "      <td>1447.750000</td>\n",
       "      <td>296.000000</td>\n",
       "      <td>787.000000</td>\n",
       "      <td>280.000000</td>\n",
       "      <td>2.563400</td>\n",
       "      <td>119600.000000</td>\n",
       "      <td>1.006029</td>\n",
       "      <td>4.440716</td>\n",
       "    </tr>\n",
       "    <tr>\n",
       "      <th>50%</th>\n",
       "      <td>29.000000</td>\n",
       "      <td>2127.000000</td>\n",
       "      <td>435.000000</td>\n",
       "      <td>1166.000000</td>\n",
       "      <td>409.000000</td>\n",
       "      <td>3.534800</td>\n",
       "      <td>179700.000000</td>\n",
       "      <td>1.048889</td>\n",
       "      <td>5.229129</td>\n",
       "    </tr>\n",
       "    <tr>\n",
       "      <th>75%</th>\n",
       "      <td>37.000000</td>\n",
       "      <td>3148.000000</td>\n",
       "      <td>647.000000</td>\n",
       "      <td>1725.000000</td>\n",
       "      <td>605.000000</td>\n",
       "      <td>4.743250</td>\n",
       "      <td>264725.000000</td>\n",
       "      <td>1.099631</td>\n",
       "      <td>6.052381</td>\n",
       "    </tr>\n",
       "    <tr>\n",
       "      <th>max</th>\n",
       "      <td>52.000000</td>\n",
       "      <td>39320.000000</td>\n",
       "      <td>6445.000000</td>\n",
       "      <td>35682.000000</td>\n",
       "      <td>6082.000000</td>\n",
       "      <td>15.000100</td>\n",
       "      <td>500001.000000</td>\n",
       "      <td>34.066667</td>\n",
       "      <td>141.909091</td>\n",
       "    </tr>\n",
       "  </tbody>\n",
       "</table>\n",
       "</div>"
      ],
      "text/plain": [
       "       housing_median_age   total_rooms  total_bedrooms    population  \\\n",
       "count        20640.000000  20640.000000    20433.000000  20640.000000   \n",
       "mean            28.639486   2635.763081      537.870553   1425.476744   \n",
       "std             12.585558   2181.615252      421.385070   1132.462122   \n",
       "min              1.000000      2.000000        1.000000      3.000000   \n",
       "25%             18.000000   1447.750000      296.000000    787.000000   \n",
       "50%             29.000000   2127.000000      435.000000   1166.000000   \n",
       "75%             37.000000   3148.000000      647.000000   1725.000000   \n",
       "max             52.000000  39320.000000     6445.000000  35682.000000   \n",
       "\n",
       "         households  median_income  median_house_value  \\\n",
       "count  20640.000000   20640.000000        20640.000000   \n",
       "mean     499.539680       3.870671       206855.816909   \n",
       "std      382.329753       1.899822       115395.615874   \n",
       "min        1.000000       0.499900        14999.000000   \n",
       "25%      280.000000       2.563400       119600.000000   \n",
       "50%      409.000000       3.534800       179700.000000   \n",
       "75%      605.000000       4.743250       264725.000000   \n",
       "max     6082.000000      15.000100       500001.000000   \n",
       "\n",
       "       bedrooms_per_household  rooms_per_household  \n",
       "count            20433.000000         20640.000000  \n",
       "mean                 1.097062             5.429000  \n",
       "std                  0.476104             2.474173  \n",
       "min                  0.333333             0.846154  \n",
       "25%                  1.006029             4.440716  \n",
       "50%                  1.048889             5.229129  \n",
       "75%                  1.099631             6.052381  \n",
       "max                 34.066667           141.909091  "
      ]
     },
     "execution_count": 12,
     "metadata": {},
     "output_type": "execute_result"
    }
   ],
   "source": [
    "# Statistiques\n",
    "\n",
    "df.describe()"
   ]
  },
  {
   "cell_type": "code",
   "execution_count": 14,
   "id": "2550fcae",
   "metadata": {},
   "outputs": [
    {
     "data": {
      "image/png": "[encoded data removed]",
      "text/plain": [
       "<Figure size 1440x1080 with 9 Axes>"
      ]
     },
     "metadata": {
      "needs_background": "light"
     },
     "output_type": "display_data"
    }
   ],
   "source": [
    "# Histogrammes pour chacune de nos variables\n",
    "\n",
    "df.hist(bins=50, figsize=(20, 15))\n",
    "plt.show()"
   ]
  },
  {
   "cell_type": "code",
   "execution_count": 15,
   "id": "5a354a25",
   "metadata": {},
   "outputs": [
    {
     "data": {
      "text/plain": [
       "<AxesSubplot:>"
      ]
     },
     "execution_count": 15,
     "metadata": {},
     "output_type": "execute_result"
    },
    {
     "data": {
      "image/png": "[encoded data removed]",
      "text/plain": [
       "<Figure size 432x288 with 1 Axes>"
      ]
     },
     "metadata": {
      "needs_background": "light"
     },
     "output_type": "display_data"
    }
   ],
   "source": [
    "# La variable 'ocean_proximity' n'étant pas un nombre, il n'est pas possible d'en faire un histogramme des valeurs.\n",
    "# Il est cependant possible de compter le nombre de fois où l'on a telle ou telle valeur (inland, island, etc.) \n",
    "# et d'en faire un histogramme.\n",
    "\n",
    "df['ocean_proximity'].value_counts().plot(kind='bar')"
   ]
  },
  {
   "cell_type": "markdown",
   "id": "726fa4e9",
   "metadata": {},
   "source": [
    "### Matrice de corrélation"
   ]
  },
  {
   "cell_type": "code",
   "execution_count": 16,
   "id": "249dc695",
   "metadata": {},
   "outputs": [
    {
     "data": {
      "text/plain": [
       "total_rooms               1.000000\n",
       "total_bedrooms            0.930380\n",
       "households                0.918484\n",
       "population                0.857126\n",
       "median_income             0.198050\n",
       "median_house_value        0.134153\n",
       "rooms_per_household       0.133798\n",
       "bedrooms_per_household    0.029373\n",
       "housing_median_age       -0.361262\n",
       "Name: total_rooms, dtype: float64"
      ]
     },
     "execution_count": 16,
     "metadata": {},
     "output_type": "execute_result"
    }
   ],
   "source": [
    "# On définit la matrice de corrélation\n",
    "corr_matrix = df.corr()\n",
    "\n",
    "# Corrélations entre 'median_house_value' et les autres variables :\n",
    "corr_matrix['median_house_value'].sort_values(ascending=False)\n",
    "\n",
    "# Corrélations entre 'total_rooms' et les autres variables :\n",
    "corr_matrix['total_rooms'].sort_values(ascending=False)\n",
    "\n",
    "# On peut voir par exemple que le nombre total de pièces est positivement corrélée à la population\n",
    "# i.e. plus la population est grande, plus il y a de pièces.\n",
    "# La valeur immobilière augmente lorsque le salaire augmente."
   ]
  },
  {
   "cell_type": "code",
   "execution_count": 17,
   "id": "058d3794",
   "metadata": {},
   "outputs": [
    {
     "data": {
      "text/plain": [
       "<AxesSubplot:>"
      ]
     },
     "execution_count": 17,
     "metadata": {},
     "output_type": "execute_result"
    },
    {
     "data": {
      "image/png": "[encoded data removed]",
      "text/plain": [
       "<Figure size 432x288 with 2 Axes>"
      ]
     },
     "metadata": {
      "needs_background": "light"
     },
     "output_type": "display_data"
    }
   ],
   "source": [
    "# Ci-dessous les corrélations entre les différentes variables\n",
    "# Lorsqu'on a une corrélation positive, la couleur tend vers le rouge\n",
    "# Tandis que lorsqu'elle est négative, elle tend vers le vert foncé\n",
    "# Une corrélation presque nulle (2 variables qui ont très peu d'influences entre elles) sera dans le vert clair.\n",
    "\n",
    "cmap = sns.diverging_palette(220, 10, as_cmap=True)\n",
    "sns.heatmap(corr_matrix, cmap=cmap, cbar_kws={\"shrink\": .5}, linewidths=.5)"
   ]
  },
  {
   "cell_type": "markdown",
   "id": "a7eec839",
   "metadata": {},
   "source": [
    "### Préparation des données"
   ]
  },
  {
   "cell_type": "code",
   "execution_count": 14,
   "id": "9fc6131f",
   "metadata": {},
   "outputs": [
    {
     "data": {
      "text/plain": [
       "count     20640.000000\n",
       "mean     206855.816909\n",
       "std      115395.615874\n",
       "min       14999.000000\n",
       "25%      119600.000000\n",
       "50%      179700.000000\n",
       "75%      264725.000000\n",
       "max      500001.000000\n",
       "Name: median_house_value, dtype: float64"
      ]
     },
     "execution_count": 14,
     "metadata": {},
     "output_type": "execute_result"
    }
   ],
   "source": [
    "# La variable que l'on aimerait prédire est la 'median_house_value' (valeur médian des maisons)\n",
    "\n",
    "df.describe()['median_house_value']"
   ]
  },
  {
   "cell_type": "code",
   "execution_count": 15,
   "id": "accfc421",
   "metadata": {},
   "outputs": [
    {
     "data": {
      "image/png": "[encoded data removed]",
      "text/plain": [
       "<Figure size 432x288 with 1 Axes>"
      ]
     },
     "metadata": {
      "needs_background": "light"
     },
     "output_type": "display_data"
    }
   ],
   "source": [
    "df['median_house_value'].hist(bins=50)\n",
    "plt.xlabel('Valeur médiane des maisons (en dollars)')\n",
    "plt.ylabel('Fréquence')\n",
    "plt.show()\n",
    "\n",
    "# remarque : il y a peut-être des outliers aux environs des 500 000 dollars"
   ]
  },
  {
   "cell_type": "code",
   "execution_count": 18,
   "id": "6c5b3561",
   "metadata": {},
   "outputs": [],
   "source": [
    "from sklearn.model_selection import train_test_split"
   ]
  },
  {
   "cell_type": "code",
   "execution_count": 19,
   "id": "1c6d77a5",
   "metadata": {},
   "outputs": [],
   "source": [
    "# Séparation des données : 90% en train, 10% en test\n",
    "\n",
    "train_set, test_set = train_test_split(df, test_size=0.1, random_state=42)"
   ]
  },
  {
   "cell_type": "code",
   "execution_count": 20,
   "id": "f70b18e8",
   "metadata": {},
   "outputs": [
    {
     "data": {
      "text/html": [
       "<div>\n",
       "<style scoped>\n",
       "    .dataframe tbody tr th:only-of-type {\n",
       "        vertical-align: middle;\n",
       "    }\n",
       "\n",
       "    .dataframe tbody tr th {\n",
       "        vertical-align: top;\n",
       "    }\n",
       "\n",
       "    .dataframe thead th {\n",
       "        text-align: right;\n",
       "    }\n",
       "</style>\n",
       "<table border=\"1\" class=\"dataframe\">\n",
       "  <thead>\n",
       "    <tr style=\"text-align: right;\">\n",
       "      <th></th>\n",
       "      <th>housing_median_age</th>\n",
       "      <th>total_rooms</th>\n",
       "      <th>total_bedrooms</th>\n",
       "      <th>population</th>\n",
       "      <th>households</th>\n",
       "      <th>median_income</th>\n",
       "      <th>median_house_value</th>\n",
       "      <th>bedrooms_per_household</th>\n",
       "      <th>rooms_per_household</th>\n",
       "    </tr>\n",
       "  </thead>\n",
       "  <tbody>\n",
       "    <tr>\n",
       "      <th>count</th>\n",
       "      <td>2064.000000</td>\n",
       "      <td>2064.000000</td>\n",
       "      <td>1857.000000</td>\n",
       "      <td>2064.000000</td>\n",
       "      <td>2064.000000</td>\n",
       "      <td>2064.000000</td>\n",
       "      <td>2064.000000</td>\n",
       "      <td>1857.000000</td>\n",
       "      <td>2064.000000</td>\n",
       "    </tr>\n",
       "    <tr>\n",
       "      <th>mean</th>\n",
       "      <td>28.891473</td>\n",
       "      <td>2618.275678</td>\n",
       "      <td>537.943996</td>\n",
       "      <td>1411.264535</td>\n",
       "      <td>498.548934</td>\n",
       "      <td>3.851189</td>\n",
       "      <td>206802.515988</td>\n",
       "      <td>1.097714</td>\n",
       "      <td>5.396306</td>\n",
       "    </tr>\n",
       "    <tr>\n",
       "      <th>std</th>\n",
       "      <td>12.486613</td>\n",
       "      <td>2179.862623</td>\n",
       "      <td>443.171473</td>\n",
       "      <td>1063.192039</td>\n",
       "      <td>388.164392</td>\n",
       "      <td>1.970345</td>\n",
       "      <td>115509.990864</td>\n",
       "      <td>0.377533</td>\n",
       "      <td>2.087917</td>\n",
       "    </tr>\n",
       "    <tr>\n",
       "      <th>min</th>\n",
       "      <td>1.000000</td>\n",
       "      <td>6.000000</td>\n",
       "      <td>2.000000</td>\n",
       "      <td>8.000000</td>\n",
       "      <td>2.000000</td>\n",
       "      <td>0.499900</td>\n",
       "      <td>30000.000000</td>\n",
       "      <td>0.500000</td>\n",
       "      <td>1.972644</td>\n",
       "    </tr>\n",
       "    <tr>\n",
       "      <th>25%</th>\n",
       "      <td>19.000000</td>\n",
       "      <td>1429.750000</td>\n",
       "      <td>295.000000</td>\n",
       "      <td>785.750000</td>\n",
       "      <td>277.000000</td>\n",
       "      <td>2.558600</td>\n",
       "      <td>119175.000000</td>\n",
       "      <td>1.003876</td>\n",
       "      <td>4.384947</td>\n",
       "    </tr>\n",
       "    <tr>\n",
       "      <th>50%</th>\n",
       "      <td>29.000000</td>\n",
       "      <td>2116.000000</td>\n",
       "      <td>427.000000</td>\n",
       "      <td>1151.000000</td>\n",
       "      <td>404.000000</td>\n",
       "      <td>3.460900</td>\n",
       "      <td>180750.000000</td>\n",
       "      <td>1.047703</td>\n",
       "      <td>5.151479</td>\n",
       "    </tr>\n",
       "    <tr>\n",
       "      <th>75%</th>\n",
       "      <td>37.000000</td>\n",
       "      <td>3112.500000</td>\n",
       "      <td>647.000000</td>\n",
       "      <td>1707.000000</td>\n",
       "      <td>602.000000</td>\n",
       "      <td>4.621100</td>\n",
       "      <td>264400.000000</td>\n",
       "      <td>1.098182</td>\n",
       "      <td>6.007067</td>\n",
       "    </tr>\n",
       "    <tr>\n",
       "      <th>max</th>\n",
       "      <td>52.000000</td>\n",
       "      <td>24121.000000</td>\n",
       "      <td>5419.000000</td>\n",
       "      <td>10493.000000</td>\n",
       "      <td>4930.000000</td>\n",
       "      <td>15.000100</td>\n",
       "      <td>500001.000000</td>\n",
       "      <td>8.476190</td>\n",
       "      <td>41.333333</td>\n",
       "    </tr>\n",
       "  </tbody>\n",
       "</table>\n",
       "</div>"
      ],
      "text/plain": [
       "       housing_median_age   total_rooms  total_bedrooms    population  \\\n",
       "count         2064.000000   2064.000000     1857.000000   2064.000000   \n",
       "mean            28.891473   2618.275678      537.943996   1411.264535   \n",
       "std             12.486613   2179.862623      443.171473   1063.192039   \n",
       "min              1.000000      6.000000        2.000000      8.000000   \n",
       "25%             19.000000   1429.750000      295.000000    785.750000   \n",
       "50%             29.000000   2116.000000      427.000000   1151.000000   \n",
       "75%             37.000000   3112.500000      647.000000   1707.000000   \n",
       "max             52.000000  24121.000000     5419.000000  10493.000000   \n",
       "\n",
       "        households  median_income  median_house_value  bedrooms_per_household  \\\n",
       "count  2064.000000    2064.000000         2064.000000             1857.000000   \n",
       "mean    498.548934       3.851189       206802.515988                1.097714   \n",
       "std     388.164392       1.970345       115509.990864                0.377533   \n",
       "min       2.000000       0.499900        30000.000000                0.500000   \n",
       "25%     277.000000       2.558600       119175.000000                1.003876   \n",
       "50%     404.000000       3.460900       180750.000000                1.047703   \n",
       "75%     602.000000       4.621100       264400.000000                1.098182   \n",
       "max    4930.000000      15.000100       500001.000000                8.476190   \n",
       "\n",
       "       rooms_per_household  \n",
       "count          2064.000000  \n",
       "mean              5.396306  \n",
       "std               2.087917  \n",
       "min               1.972644  \n",
       "25%               4.384947  \n",
       "50%               5.151479  \n",
       "75%               6.007067  \n",
       "max              41.333333  "
      ]
     },
     "execution_count": 20,
     "metadata": {},
     "output_type": "execute_result"
    }
   ],
   "source": [
    "df.describe()\n",
    "train_set.describe()\n",
    "test_set.describe()"
   ]
  },
  {
   "cell_type": "code",
   "execution_count": 21,
   "id": "1f4868ca",
   "metadata": {},
   "outputs": [],
   "source": [
    "# Isolation (et suppression du DF de base) de la variable qui nous intéresse pour chacun des sets (train et test)\n",
    "\n",
    "price_train = train_set['median_house_value']\n",
    "train_set = train_set.drop(['median_house_value'], axis=1)\n",
    "price_test = test_set['median_house_value']\n",
    "test_set = test_set.drop(['median_house_value'], axis=1)"
   ]
  },
  {
   "cell_type": "markdown",
   "id": "c3744da7",
   "metadata": {},
   "source": [
    "### Nettoyage des données\n",
    "##### Remplir les données manquantes\n",
    "##### Arranger les outliers"
   ]
  },
  {
   "cell_type": "code",
   "execution_count": 22,
   "id": "8490c701",
   "metadata": {
    "scrolled": true
   },
   "outputs": [],
   "source": [
    "from sklearn.pipeline import Pipeline\n",
    "from sklearn.impute import SimpleImputer\n",
    "from sklearn.preprocessing import StandardScaler\n",
    "from sklearn.compose import ColumnTransformer\n",
    "from sklearn.preprocessing import OneHotEncoder"
   ]
  },
  {
   "cell_type": "code",
   "execution_count": 23,
   "id": "8bdeb127",
   "metadata": {},
   "outputs": [
    {
     "name": "stdout",
     "output_type": "stream",
     "text": [
      "<class 'pandas.core.frame.DataFrame'>\n",
      "RangeIndex: 20640 entries, 0 to 20639\n",
      "Data columns (total 10 columns):\n",
      " #   Column                  Non-Null Count  Dtype   \n",
      "---  ------                  --------------  -----   \n",
      " 0   housing_median_age      20640 non-null  float64 \n",
      " 1   total_rooms             20640 non-null  float64 \n",
      " 2   total_bedrooms          20433 non-null  float64 \n",
      " 3   population              20640 non-null  float64 \n",
      " 4   households              20640 non-null  float64 \n",
      " 5   median_income           20640 non-null  float64 \n",
      " 6   median_house_value      20640 non-null  float64 \n",
      " 7   ocean_proximity         20640 non-null  category\n",
      " 8   bedrooms_per_household  20433 non-null  float64 \n",
      " 9   rooms_per_household     20640 non-null  float64 \n",
      "dtypes: category(1), float64(9)\n",
      "memory usage: 1.4 MB\n"
     ]
    }
   ],
   "source": [
    "df.info()\n",
    "# Pour 'total_bedrooms' nous avons 20433 données au lieu de 20640, soit 207 données manquantes.\n",
    "# Et d'après les histogrammes, on pourrait croire que l'on ait des outliers"
   ]
  },
  {
   "cell_type": "code",
   "execution_count": 26,
   "id": "d7593bc4",
   "metadata": {},
   "outputs": [
    {
     "data": {
      "text/plain": [
       "['ocean_proximity']"
      ]
     },
     "execution_count": 26,
     "metadata": {},
     "output_type": "execute_result"
    }
   ],
   "source": [
    "# sélectionne uniquement la colonne dont le type est 'category' dans le train set:\n",
    "cat_attribs_df = train_set.select_dtypes(include=['category'])\n",
    "cat_attribs_df\n",
    "\n",
    "# et sélectionne uniquement le nom de cette colonne (sans les valeurs):\n",
    "cat_attribs = list(cat_attribs_df)\n",
    "cat_attribs"
   ]
  },
  {
   "cell_type": "code",
   "execution_count": 27,
   "id": "5660e546",
   "metadata": {},
   "outputs": [
    {
     "data": {
      "text/plain": [
       "['housing_median_age',\n",
       " 'total_rooms',\n",
       " 'total_bedrooms',\n",
       " 'population',\n",
       " 'households',\n",
       " 'median_income',\n",
       " 'bedrooms_per_household',\n",
       " 'rooms_per_household']"
      ]
     },
     "execution_count": 27,
     "metadata": {},
     "output_type": "execute_result"
    }
   ],
   "source": [
    "# sélectionne uniquement les colonnes dont le type est 'int64' ou bien 'float64' dans le train set:\n",
    "num_attribs_df = train_set.select_dtypes(include=['int64','float64'])\n",
    "num_attribs_df\n",
    "\n",
    "# sélectionne uniquement le nom de ces colonnes (sans les valeurs):\n",
    "num_attribs = list(num_attribs_df)\n",
    "num_attribs"
   ]
  },
  {
   "cell_type": "code",
   "execution_count": 30,
   "id": "143a2b03",
   "metadata": {},
   "outputs": [
    {
     "name": "stdout",
     "output_type": "stream",
     "text": [
      "rien oublié\n"
     ]
    }
   ],
   "source": [
    "# petit test pour vérifier si on a bien le compte:\n",
    "\n",
    "if (len(num_attribs) + len(cat_attribs) == len(list(train_set))):\n",
    "    print(\"rien oublié\")\n",
    "else:\n",
    "    print(\"erreur\")"
   ]
  },
  {
   "cell_type": "code",
   "execution_count": 31,
   "id": "85fda02b",
   "metadata": {},
   "outputs": [],
   "source": [
    "# Les pipelines vont 'nettoyer' les données : à l'entrée les données à nettoyer,\n",
    "# en sortie les données nettoyées.\n",
    "\n",
    "# Pour les nombres, SimpleImputer() va remplacer les valeurs manquantes par, ici, la médiane.\n",
    "# StandardScaler() va normaliser ces valeurs (bon pour la précision des algos):\n",
    "\n",
    "num_pipeline = Pipeline([\n",
    "    ('imputer', SimpleImputer(strategy=\"median\")),\n",
    "    ('std_scaler', StandardScaler())\n",
    "])"
   ]
  },
  {
   "cell_type": "code",
   "execution_count": 32,
   "id": "d9bb90be",
   "metadata": {},
   "outputs": [],
   "source": [
    "# Faire un num_pipeline que sur les num_attribs\n",
    "# Faire un OneHotEncoder() que sur les cat_attribs\n",
    "\n",
    "full_pipeline = ColumnTransformer([\n",
    "    ('num', num_pipeline, num_attribs),\n",
    "    ('cat', OneHotEncoder(), cat_attribs),\n",
    "])\n",
    "\n",
    "# Cet objet créé pourra ensuite être appliqué au training set:"
   ]
  },
  {
   "cell_type": "code",
   "execution_count": 33,
   "id": "c4b5989d",
   "metadata": {},
   "outputs": [
    {
     "data": {
      "text/plain": [
       "array([ 0.98351287, -0.07457422, -0.01398847, -0.00969912, -0.07768305,\n",
       "       -0.01883674,  0.07201694, -0.06631495,  1.        ,  0.        ,\n",
       "        0.        ,  0.        ,  0.        ])"
      ]
     },
     "execution_count": 33,
     "metadata": {},
     "output_type": "execute_result"
    }
   ],
   "source": [
    "train_set_prepared = full_pipeline.fit_transform(train_set)\n",
    "train_set_prepared[0]   # première ligne nettoyée\n",
    "\n",
    "# Nous n'avons plus de valeurs manquantes, et elles sont toutes normalisées"
   ]
  },
  {
   "cell_type": "markdown",
   "id": "13046482",
   "metadata": {},
   "source": [
    "### Machine Learning"
   ]
  },
  {
   "cell_type": "code",
   "execution_count": 34,
   "id": "8ada1463",
   "metadata": {},
   "outputs": [],
   "source": [
    "from sklearn.linear_model import LinearRegression"
   ]
  },
  {
   "cell_type": "code",
   "execution_count": 36,
   "id": "83e7775d",
   "metadata": {},
   "outputs": [
    {
     "data": {
      "text/plain": [
       "LinearRegression()"
      ]
     },
     "execution_count": 36,
     "metadata": {},
     "output_type": "execute_result"
    }
   ],
   "source": [
    "# Entraînement du modèle - avec le training set\n",
    "\n",
    "lin_reg = LinearRegression()   # création de l'objet\n",
    "lin_reg.fit(train_set_prepared, price_train)   # entraînement du modèle\n",
    "\n",
    "# Rappels:\n",
    "# train_set_prepared : données du training set qui ont été préparées/nettoyées\n",
    "# price_train : valeurs que l'on veut prédire et que l'on utilise pour le training"
   ]
  },
  {
   "cell_type": "code",
   "execution_count": 38,
   "id": "7be5f0a9",
   "metadata": {},
   "outputs": [],
   "source": [
    "# Test du modèle, sur 10 maisons :"
   ]
  },
  {
   "cell_type": "code",
   "execution_count": 39,
   "id": "738eb519",
   "metadata": {},
   "outputs": [
    {
     "data": {
      "text/html": [
       "<div>\n",
       "<style scoped>\n",
       "    .dataframe tbody tr th:only-of-type {\n",
       "        vertical-align: middle;\n",
       "    }\n",
       "\n",
       "    .dataframe tbody tr th {\n",
       "        vertical-align: top;\n",
       "    }\n",
       "\n",
       "    .dataframe thead th {\n",
       "        text-align: right;\n",
       "    }\n",
       "</style>\n",
       "<table border=\"1\" class=\"dataframe\">\n",
       "  <thead>\n",
       "    <tr style=\"text-align: right;\">\n",
       "      <th></th>\n",
       "      <th>housing_median_age</th>\n",
       "      <th>total_rooms</th>\n",
       "      <th>total_bedrooms</th>\n",
       "      <th>population</th>\n",
       "      <th>households</th>\n",
       "      <th>median_income</th>\n",
       "      <th>ocean_proximity</th>\n",
       "      <th>bedrooms_per_household</th>\n",
       "      <th>rooms_per_household</th>\n",
       "    </tr>\n",
       "  </thead>\n",
       "  <tbody>\n",
       "    <tr>\n",
       "      <th>20046</th>\n",
       "      <td>25.0</td>\n",
       "      <td>1505.0</td>\n",
       "      <td>NaN</td>\n",
       "      <td>1392.0</td>\n",
       "      <td>359.0</td>\n",
       "      <td>1.6812</td>\n",
       "      <td>INLAND</td>\n",
       "      <td>NaN</td>\n",
       "      <td>4.192201</td>\n",
       "    </tr>\n",
       "    <tr>\n",
       "      <th>3024</th>\n",
       "      <td>30.0</td>\n",
       "      <td>2943.0</td>\n",
       "      <td>NaN</td>\n",
       "      <td>1565.0</td>\n",
       "      <td>584.0</td>\n",
       "      <td>2.5313</td>\n",
       "      <td>INLAND</td>\n",
       "      <td>NaN</td>\n",
       "      <td>5.039384</td>\n",
       "    </tr>\n",
       "    <tr>\n",
       "      <th>15663</th>\n",
       "      <td>52.0</td>\n",
       "      <td>3830.0</td>\n",
       "      <td>NaN</td>\n",
       "      <td>1310.0</td>\n",
       "      <td>963.0</td>\n",
       "      <td>3.4801</td>\n",
       "      <td>NEAR BAY</td>\n",
       "      <td>NaN</td>\n",
       "      <td>3.977155</td>\n",
       "    </tr>\n",
       "    <tr>\n",
       "      <th>20484</th>\n",
       "      <td>17.0</td>\n",
       "      <td>3051.0</td>\n",
       "      <td>NaN</td>\n",
       "      <td>1705.0</td>\n",
       "      <td>495.0</td>\n",
       "      <td>5.7376</td>\n",
       "      <td>&lt;1H OCEAN</td>\n",
       "      <td>NaN</td>\n",
       "      <td>6.163636</td>\n",
       "    </tr>\n",
       "    <tr>\n",
       "      <th>9814</th>\n",
       "      <td>34.0</td>\n",
       "      <td>2351.0</td>\n",
       "      <td>NaN</td>\n",
       "      <td>1063.0</td>\n",
       "      <td>428.0</td>\n",
       "      <td>3.7250</td>\n",
       "      <td>NEAR OCEAN</td>\n",
       "      <td>NaN</td>\n",
       "      <td>5.492991</td>\n",
       "    </tr>\n",
       "    <tr>\n",
       "      <th>13311</th>\n",
       "      <td>12.0</td>\n",
       "      <td>4427.0</td>\n",
       "      <td>NaN</td>\n",
       "      <td>2400.0</td>\n",
       "      <td>843.0</td>\n",
       "      <td>4.7147</td>\n",
       "      <td>INLAND</td>\n",
       "      <td>NaN</td>\n",
       "      <td>5.251483</td>\n",
       "    </tr>\n",
       "    <tr>\n",
       "      <th>7113</th>\n",
       "      <td>36.0</td>\n",
       "      <td>1375.0</td>\n",
       "      <td>NaN</td>\n",
       "      <td>670.0</td>\n",
       "      <td>221.0</td>\n",
       "      <td>5.0839</td>\n",
       "      <td>&lt;1H OCEAN</td>\n",
       "      <td>NaN</td>\n",
       "      <td>6.221719</td>\n",
       "    </tr>\n",
       "    <tr>\n",
       "      <th>7668</th>\n",
       "      <td>38.0</td>\n",
       "      <td>1335.0</td>\n",
       "      <td>NaN</td>\n",
       "      <td>1011.0</td>\n",
       "      <td>269.0</td>\n",
       "      <td>3.6908</td>\n",
       "      <td>&lt;1H OCEAN</td>\n",
       "      <td>NaN</td>\n",
       "      <td>4.962825</td>\n",
       "    </tr>\n",
       "    <tr>\n",
       "      <th>18246</th>\n",
       "      <td>4.0</td>\n",
       "      <td>2292.0</td>\n",
       "      <td>NaN</td>\n",
       "      <td>1050.0</td>\n",
       "      <td>584.0</td>\n",
       "      <td>4.8036</td>\n",
       "      <td>NEAR BAY</td>\n",
       "      <td>NaN</td>\n",
       "      <td>3.924658</td>\n",
       "    </tr>\n",
       "    <tr>\n",
       "      <th>5723</th>\n",
       "      <td>45.0</td>\n",
       "      <td>2332.0</td>\n",
       "      <td>NaN</td>\n",
       "      <td>943.0</td>\n",
       "      <td>339.0</td>\n",
       "      <td>8.1132</td>\n",
       "      <td>&lt;1H OCEAN</td>\n",
       "      <td>NaN</td>\n",
       "      <td>6.879056</td>\n",
       "    </tr>\n",
       "  </tbody>\n",
       "</table>\n",
       "</div>"
      ],
      "text/plain": [
       "       housing_median_age  total_rooms  total_bedrooms  population  \\\n",
       "20046                25.0       1505.0             NaN      1392.0   \n",
       "3024                 30.0       2943.0             NaN      1565.0   \n",
       "15663                52.0       3830.0             NaN      1310.0   \n",
       "20484                17.0       3051.0             NaN      1705.0   \n",
       "9814                 34.0       2351.0             NaN      1063.0   \n",
       "13311                12.0       4427.0             NaN      2400.0   \n",
       "7113                 36.0       1375.0             NaN       670.0   \n",
       "7668                 38.0       1335.0             NaN      1011.0   \n",
       "18246                 4.0       2292.0             NaN      1050.0   \n",
       "5723                 45.0       2332.0             NaN       943.0   \n",
       "\n",
       "       households  median_income ocean_proximity  bedrooms_per_household  \\\n",
       "20046       359.0         1.6812          INLAND                     NaN   \n",
       "3024        584.0         2.5313          INLAND                     NaN   \n",
       "15663       963.0         3.4801        NEAR BAY                     NaN   \n",
       "20484       495.0         5.7376       <1H OCEAN                     NaN   \n",
       "9814        428.0         3.7250      NEAR OCEAN                     NaN   \n",
       "13311       843.0         4.7147          INLAND                     NaN   \n",
       "7113        221.0         5.0839       <1H OCEAN                     NaN   \n",
       "7668        269.0         3.6908       <1H OCEAN                     NaN   \n",
       "18246       584.0         4.8036        NEAR BAY                     NaN   \n",
       "5723        339.0         8.1132       <1H OCEAN                     NaN   \n",
       "\n",
       "       rooms_per_household  \n",
       "20046             4.192201  \n",
       "3024              5.039384  \n",
       "15663             3.977155  \n",
       "20484             6.163636  \n",
       "9814              5.492991  \n",
       "13311             5.251483  \n",
       "7113              6.221719  \n",
       "7668              4.962825  \n",
       "18246             3.924658  \n",
       "5723              6.879056  "
      ]
     },
     "execution_count": 39,
     "metadata": {},
     "output_type": "execute_result"
    }
   ],
   "source": [
    "part_data_test = test_set.iloc[:10]\n",
    "part_data_test"
   ]
  },
  {
   "cell_type": "code",
   "execution_count": 40,
   "id": "d8dae3c5",
   "metadata": {},
   "outputs": [
    {
     "data": {
      "text/plain": [
       "20046     47700.0\n",
       "3024      45800.0\n",
       "15663    500001.0\n",
       "20484    218600.0\n",
       "9814     278000.0\n",
       "13311    158700.0\n",
       "7113     198200.0\n",
       "7668     157500.0\n",
       "18246    340000.0\n",
       "5723     446600.0\n",
       "Name: median_house_value, dtype: float64"
      ]
     },
     "execution_count": 40,
     "metadata": {},
     "output_type": "execute_result"
    }
   ],
   "source": [
    "part_price_test = price_test.iloc[:10]\n",
    "part_price_test"
   ]
  },
  {
   "cell_type": "code",
   "execution_count": 41,
   "id": "47aeab8e",
   "metadata": {},
   "outputs": [
    {
     "data": {
      "text/plain": [
       "array([[-0.28671279, -0.51916103, -0.24302556, -0.03075389, -0.36850554,\n",
       "        -1.15848302, -0.09903561, -0.49353058,  0.        ,  1.        ,\n",
       "         0.        ,  0.        ,  0.        ],\n",
       "       [ 0.11023273,  0.13992745, -0.24302556,  0.12101588,  0.22099952,\n",
       "        -0.7091262 , -0.09903561, -0.1564619 ,  0.        ,  1.        ,\n",
       "         0.        ,  0.        ,  0.        ],\n",
       "       [ 1.85679302,  0.54647229, -0.24302556, -0.102691  ,  1.21398804,\n",
       "        -0.20759726, -0.09903561, -0.57909086,  0.        ,  0.        ,\n",
       "         0.        ,  1.        ,  0.        ],\n",
       "       [-0.92182562,  0.18942784, -0.24302556,  0.24383535, -0.01218248,\n",
       "         0.9857012 , -0.09903561,  0.29084453,  1.        ,  0.        ,\n",
       "         0.        ,  0.        ,  0.        ],\n",
       "       [ 0.42778914, -0.131408  , -0.24302556, -0.31937963, -0.18772399,\n",
       "        -0.07814486, -0.09903561,  0.02401474,  0.        ,  0.        ,\n",
       "         0.        ,  0.        ,  1.        ],\n",
       "       [-1.31877114,  0.82009943, -0.24302556,  0.85354627,  0.89958534,\n",
       "         0.44500353, -0.09903561, -0.07207398,  0.        ,  1.        ,\n",
       "         0.        ,  0.        ,  0.        ],\n",
       "       [ 0.58656735, -0.57874482, -0.24302556, -0.66415142, -0.73006865,\n",
       "         0.64016003, -0.09903561,  0.31395405,  1.        ,  0.        ,\n",
       "         0.        ,  0.        ,  0.        ],\n",
       "       [ 0.74534556, -0.5970783 , -0.24302556, -0.36499829, -0.60430757,\n",
       "        -0.09622274, -0.09903561, -0.18692214,  1.        ,  0.        ,\n",
       "         0.        ,  0.        ,  0.        ],\n",
       "       [-1.95388398, -0.15844988, -0.24302556, -0.3307843 ,  0.22099952,\n",
       "         0.49199544, -0.09903561, -0.59997791,  0.        ,  0.        ,\n",
       "         0.        ,  1.        ,  0.        ],\n",
       "       [ 1.30106929, -0.1401164 , -0.24302556, -0.42465346, -0.42090599,\n",
       "         2.24142648, -0.09903561,  0.57548854,  1.        ,  0.        ,\n",
       "         0.        ,  0.        ,  0.        ]])"
      ]
     },
     "execution_count": 41,
     "metadata": {},
     "output_type": "execute_result"
    }
   ],
   "source": [
    "# Préparation des données du test set (normalisation, remplacement des NaN)\n",
    "# On transforme les données grâce à la pipeline :\n",
    "\n",
    "data_test_prepared = full_pipeline.transform(part_data_test)\n",
    "data_test_prepared"
   ]
  },
  {
   "cell_type": "code",
   "execution_count": 42,
   "id": "58c5474b",
   "metadata": {},
   "outputs": [
    {
     "name": "stdout",
     "output_type": "stream",
     "text": [
      "Predictions:  [ 54325.05476027 101104.28082547 284238.11727394 268409.07402061\n",
      " 240549.42043825 157884.27009501 283464.52232007 224482.33004325\n",
      " 263331.78853594 416689.57368589]\n",
      "Labels:  [47700.0, 45800.0, 500001.0, 218600.0, 278000.0, 158700.0, 198200.0, 157500.0, 340000.0, 446600.0]\n"
     ]
    }
   ],
   "source": [
    "# Prédiction des prix de 10 maisons\n",
    "# On applique le modèle entraîné sur les données préparées du test set :\n",
    "\n",
    "print(\"Predictions: \", lin_reg.predict(data_test_prepared))   # 10 prix prédits\n",
    "print(\"Labels: \", list(part_price_test))                      # 10 prix véritables"
   ]
  },
  {
   "cell_type": "markdown",
   "id": "8cb88032",
   "metadata": {},
   "source": [
    "### Performance du modèle"
   ]
  },
  {
   "cell_type": "code",
   "execution_count": 43,
   "id": "3cc15a67",
   "metadata": {},
   "outputs": [],
   "source": [
    "from sklearn.metrics import mean_squared_error"
   ]
  },
  {
   "cell_type": "code",
   "execution_count": 44,
   "id": "324612da",
   "metadata": {},
   "outputs": [
    {
     "data": {
      "text/plain": [
       "array([ 54325.05476027, 101104.28082547, 284238.11727394, ...,\n",
       "       269262.53534821, 162801.42388615, 143186.91088853])"
      ]
     },
     "execution_count": 44,
     "metadata": {},
     "output_type": "execute_result"
    }
   ],
   "source": [
    "# test sur toutes les maisons (et non plus sur 10 maisons uniquement)\n",
    "\n",
    "test_set_prepared = full_pipeline.transform(test_set)\n",
    "predictions = lin_reg.predict(test_set_prepared)\n",
    "predictions"
   ]
  },
  {
   "cell_type": "code",
   "execution_count": 45,
   "id": "d9ab1850",
   "metadata": {},
   "outputs": [
    {
     "data": {
      "text/plain": [
       "72284.35597924617"
      ]
     },
     "execution_count": 45,
     "metadata": {},
     "output_type": "execute_result"
    }
   ],
   "source": [
    "# Mean Squared Error\n",
    "\n",
    "mse = mean_squared_error(price_test, predictions)\n",
    "rmse = np.sqrt(mse)\n",
    "rmse\n",
    "\n",
    "# En moyenne, notre modèle fait une erreur de 72k dollars sur le prix des maisons\n",
    "# C'est énorme, testons donc un autre modèle"
   ]
  },
  {
   "cell_type": "markdown",
   "id": "10933891",
   "metadata": {},
   "source": [
    "### Random Forest Regressor"
   ]
  },
  {
   "cell_type": "code",
   "execution_count": 47,
   "id": "3f09dec0",
   "metadata": {},
   "outputs": [],
   "source": [
    "from sklearn.ensemble import RandomForestRegressor"
   ]
  },
  {
   "cell_type": "code",
   "execution_count": 48,
   "id": "d3dcf4f5",
   "metadata": {},
   "outputs": [
    {
     "data": {
      "text/plain": [
       "RandomForestRegressor(n_estimators=10, random_state=42)"
      ]
     },
     "execution_count": 48,
     "metadata": {},
     "output_type": "execute_result"
    }
   ],
   "source": [
    "forest_reg = RandomForestRegressor(n_estimators = 10, random_state = 42)\n",
    "forest_reg.fit(train_set_prepared, price_train)"
   ]
  },
  {
   "cell_type": "code",
   "execution_count": 50,
   "id": "563158af",
   "metadata": {},
   "outputs": [],
   "source": [
    "test_set_prepared = full_pipeline.transform(test_set)\n",
    "predictions = forest_reg.predict(test_set_prepared)"
   ]
  },
  {
   "cell_type": "code",
   "execution_count": 51,
   "id": "7caff7ae",
   "metadata": {},
   "outputs": [
    {
     "data": {
      "text/plain": [
       "65269.656365607414"
      ]
     },
     "execution_count": 51,
     "metadata": {},
     "output_type": "execute_result"
    }
   ],
   "source": [
    "mse = mean_squared_error(price_test, predictions)\n",
    "rmse = np.sqrt(mse)\n",
    "rmse\n",
    "\n",
    "# Cette fois-ci notre nouveau modèle fait une erreur moyenne de 65k dollars\n",
    "# C'est mieux qu'avant, mais on pourrait toujours améliorer ce modèle (Random Forest Regressor)\n",
    "# en jouant sur quelques paramètres"
   ]
  },
  {
   "cell_type": "markdown",
   "id": "ab474364",
   "metadata": {},
   "source": [
    "### Amélioration de notre modèle Random Forest Regressor - Grid Search\n",
    "##### En jouant sur le nombre d'arbres, profondeur de l'arbre etc."
   ]
  },
  {
   "cell_type": "code",
   "execution_count": 52,
   "id": "1d91cde6",
   "metadata": {},
   "outputs": [],
   "source": [
    "from sklearn.model_selection import GridSearchCV"
   ]
  },
  {
   "cell_type": "code",
   "execution_count": 53,
   "id": "03121f9a",
   "metadata": {},
   "outputs": [
    {
     "data": {
      "text/plain": [
       "GridSearchCV(cv=5, estimator=RandomForestRegressor(n_jobs=-1, random_state=42),\n",
       "             param_grid=[{'max_depth': [6, 8, 10], 'max_features': [2, 4, 6, 8],\n",
       "                          'n_estimators': [3, 10, 30]}],\n",
       "             scoring='neg_mean_squared_error')"
      ]
     },
     "execution_count": 53,
     "metadata": {},
     "output_type": "execute_result"
    }
   ],
   "source": [
    "# On teste 3x4x3=36 paramétrages différents du modèle, en faisant varier\n",
    "# nombre d'arbres, nombre de features à prendre en compte, profondeur de l'arbre (nb d'étages)\n",
    "\n",
    "param_grid = [\n",
    "    {'n_estimators': [3, 10, 30], 'max_features': [2, 4, 6, 8], 'max_depth': [6, 8, 10]}\n",
    "]\n",
    "\n",
    "forest_reg = RandomForestRegressor(random_state=42, n_jobs=-1)   # n_jobs=-1 : utilise tous les processeurs pour aller +vite\n",
    "grid_search = GridSearchCV(forest_reg, param_grid, cv=5,\n",
    "                          scoring='neg_mean_squared_error')      # cv=5 coupe le training set en 5\n",
    "grid_search.fit(train_set_prepared, price_train)"
   ]
  },
  {
   "cell_type": "code",
   "execution_count": 55,
   "id": "ba2573a2",
   "metadata": {},
   "outputs": [
    {
     "data": {
      "text/plain": [
       "RandomForestRegressor(max_depth=10, max_features=8, n_estimators=30, n_jobs=-1,\n",
       "                      random_state=42)"
      ]
     },
     "execution_count": 55,
     "metadata": {},
     "output_type": "execute_result"
    }
   ],
   "source": [
    "# Meilleurs paramètres :\n",
    "\n",
    "grid_search.best_params_\n",
    "final_model = grid_search.best_estimator_\n",
    "final_model"
   ]
  },
  {
   "cell_type": "code",
   "execution_count": 56,
   "id": "0aef4460",
   "metadata": {},
   "outputs": [
    {
     "data": {
      "text/plain": [
       "64687.4565843594"
      ]
     },
     "execution_count": 56,
     "metadata": {},
     "output_type": "execute_result"
    }
   ],
   "source": [
    "# Prédiction des prix en utilisant cette fois-ci les meilleurs paramètres déterminés\n",
    "# grâce au grid search\n",
    "\n",
    "final_predictions = final_model.predict(test_set_prepared)\n",
    "final_mse = mean_squared_error(price_test, final_predictions)\n",
    "final_rmse = np.sqrt(final_mse)\n",
    "final_rmse\n",
    "\n",
    "# Nous obtenons une erreur moyenne de 64k dollars sur l'estimation de la valeur des maisons\n",
    "# Grâce au Grid Search, notre modèle s'est légèrement amélioré."
   ]
  },
  {
   "cell_type": "markdown",
   "id": "042ec13c",
   "metadata": {},
   "source": [
    "### Résultats\n",
    "#### Quels sont donc les paramètres qui ont la plus forte influence sur le prix des maisons ?"
   ]
  },
  {
   "cell_type": "code",
   "execution_count": 57,
   "id": "c339e66c",
   "metadata": {},
   "outputs": [
    {
     "data": {
      "text/plain": [
       "array([0.06080181, 0.01986538, 0.02883977, 0.03780577, 0.01962357,\n",
       "       0.52383881, 0.02604654, 0.05803048, 0.011267  , 0.20374804,\n",
       "       0.00070338, 0.00590325, 0.00352621])"
      ]
     },
     "execution_count": 57,
     "metadata": {},
     "output_type": "execute_result"
    }
   ],
   "source": [
    "final_model.feature_importances_\n",
    "\n",
    "# Nous obtenons des valeurs (d'importance) pour chacune des features mais il est difficile de savoir \n",
    "# à quelles features chacune d'elles correspondent.\n",
    "# Pour les 'category', elles ont été encodées par OneHotEncoder. \n",
    "# Pour les récupérer, il faut créer un autre OneHotEncoder (indépendant de la pipeline)"
   ]
  },
  {
   "cell_type": "code",
   "execution_count": 58,
   "id": "1a62e340",
   "metadata": {},
   "outputs": [
    {
     "data": {
      "text/plain": [
       "array(['x0_<1H OCEAN', 'x0_INLAND', 'x0_ISLAND', 'x0_NEAR BAY',\n",
       "       'x0_NEAR OCEAN'], dtype=object)"
      ]
     },
     "execution_count": 58,
     "metadata": {},
     "output_type": "execute_result"
    }
   ],
   "source": [
    "encoder = OneHotEncoder()\n",
    "encoder.fit_transform(train_set[cat_attribs])   # fit seulement pour les colonnes des catégories du train set\n",
    "encoded_cat_attribs = encoder.get_feature_names()   # obtenir le nom des colonnes\n",
    "encoded_cat_attribs"
   ]
  },
  {
   "cell_type": "code",
   "execution_count": 59,
   "id": "6ee93619",
   "metadata": {},
   "outputs": [
    {
     "data": {
      "text/plain": [
       "['housing_median_age',\n",
       " 'total_rooms',\n",
       " 'total_bedrooms',\n",
       " 'population',\n",
       " 'households',\n",
       " 'median_income',\n",
       " 'bedrooms_per_household',\n",
       " 'rooms_per_household',\n",
       " 'x0_<1H OCEAN',\n",
       " 'x0_INLAND',\n",
       " 'x0_ISLAND',\n",
       " 'x0_NEAR BAY',\n",
       " 'x0_NEAR OCEAN']"
      ]
     },
     "execution_count": 59,
     "metadata": {},
     "output_type": "execute_result"
    }
   ],
   "source": [
    "# On accole les résultats\n",
    "\n",
    "list_features = np.append(num_attribs, encoded_cat_attribs)\n",
    "list_features\n",
    "# retourne la liste de toutes les features (dans l'ordre) qui vont être utlisées dans notre modèle.\n",
    "# pour plus de lisibilité :\n",
    "\n",
    "list_features = list(list_features)\n",
    "list_features"
   ]
  },
  {
   "cell_type": "code",
   "execution_count": 60,
   "id": "84327ad9",
   "metadata": {},
   "outputs": [
    {
     "data": {
      "text/html": [
       "<div>\n",
       "<style scoped>\n",
       "    .dataframe tbody tr th:only-of-type {\n",
       "        vertical-align: middle;\n",
       "    }\n",
       "\n",
       "    .dataframe tbody tr th {\n",
       "        vertical-align: top;\n",
       "    }\n",
       "\n",
       "    .dataframe thead th {\n",
       "        text-align: right;\n",
       "    }\n",
       "</style>\n",
       "<table border=\"1\" class=\"dataframe\">\n",
       "  <thead>\n",
       "    <tr style=\"text-align: right;\">\n",
       "      <th></th>\n",
       "      <th>features</th>\n",
       "    </tr>\n",
       "  </thead>\n",
       "  <tbody>\n",
       "    <tr>\n",
       "      <th>0</th>\n",
       "      <td>housing_median_age</td>\n",
       "    </tr>\n",
       "    <tr>\n",
       "      <th>1</th>\n",
       "      <td>total_rooms</td>\n",
       "    </tr>\n",
       "    <tr>\n",
       "      <th>2</th>\n",
       "      <td>total_bedrooms</td>\n",
       "    </tr>\n",
       "    <tr>\n",
       "      <th>3</th>\n",
       "      <td>population</td>\n",
       "    </tr>\n",
       "    <tr>\n",
       "      <th>4</th>\n",
       "      <td>households</td>\n",
       "    </tr>\n",
       "    <tr>\n",
       "      <th>5</th>\n",
       "      <td>median_income</td>\n",
       "    </tr>\n",
       "    <tr>\n",
       "      <th>6</th>\n",
       "      <td>bedrooms_per_household</td>\n",
       "    </tr>\n",
       "    <tr>\n",
       "      <th>7</th>\n",
       "      <td>rooms_per_household</td>\n",
       "    </tr>\n",
       "    <tr>\n",
       "      <th>8</th>\n",
       "      <td>x0_&lt;1H OCEAN</td>\n",
       "    </tr>\n",
       "    <tr>\n",
       "      <th>9</th>\n",
       "      <td>x0_INLAND</td>\n",
       "    </tr>\n",
       "    <tr>\n",
       "      <th>10</th>\n",
       "      <td>x0_ISLAND</td>\n",
       "    </tr>\n",
       "    <tr>\n",
       "      <th>11</th>\n",
       "      <td>x0_NEAR BAY</td>\n",
       "    </tr>\n",
       "    <tr>\n",
       "      <th>12</th>\n",
       "      <td>x0_NEAR OCEAN</td>\n",
       "    </tr>\n",
       "  </tbody>\n",
       "</table>\n",
       "</div>"
      ],
      "text/plain": [
       "                  features\n",
       "0       housing_median_age\n",
       "1              total_rooms\n",
       "2           total_bedrooms\n",
       "3               population\n",
       "4               households\n",
       "5            median_income\n",
       "6   bedrooms_per_household\n",
       "7      rooms_per_household\n",
       "8             x0_<1H OCEAN\n",
       "9                x0_INLAND\n",
       "10               x0_ISLAND\n",
       "11             x0_NEAR BAY\n",
       "12           x0_NEAR OCEAN"
      ]
     },
     "execution_count": 60,
     "metadata": {},
     "output_type": "execute_result"
    }
   ],
   "source": [
    "df_features = pd.DataFrame(data=list_features, columns=['features'])\n",
    "df_features"
   ]
  },
  {
   "cell_type": "code",
   "execution_count": 61,
   "id": "98388ce3",
   "metadata": {},
   "outputs": [
    {
     "data": {
      "text/html": [
       "<div>\n",
       "<style scoped>\n",
       "    .dataframe tbody tr th:only-of-type {\n",
       "        vertical-align: middle;\n",
       "    }\n",
       "\n",
       "    .dataframe tbody tr th {\n",
       "        vertical-align: top;\n",
       "    }\n",
       "\n",
       "    .dataframe thead th {\n",
       "        text-align: right;\n",
       "    }\n",
       "</style>\n",
       "<table border=\"1\" class=\"dataframe\">\n",
       "  <thead>\n",
       "    <tr style=\"text-align: right;\">\n",
       "      <th></th>\n",
       "      <th>features</th>\n",
       "      <th>importance</th>\n",
       "    </tr>\n",
       "  </thead>\n",
       "  <tbody>\n",
       "    <tr>\n",
       "      <th>0</th>\n",
       "      <td>housing_median_age</td>\n",
       "      <td>0.060802</td>\n",
       "    </tr>\n",
       "    <tr>\n",
       "      <th>1</th>\n",
       "      <td>total_rooms</td>\n",
       "      <td>0.019865</td>\n",
       "    </tr>\n",
       "    <tr>\n",
       "      <th>2</th>\n",
       "      <td>total_bedrooms</td>\n",
       "      <td>0.028840</td>\n",
       "    </tr>\n",
       "    <tr>\n",
       "      <th>3</th>\n",
       "      <td>population</td>\n",
       "      <td>0.037806</td>\n",
       "    </tr>\n",
       "    <tr>\n",
       "      <th>4</th>\n",
       "      <td>households</td>\n",
       "      <td>0.019624</td>\n",
       "    </tr>\n",
       "    <tr>\n",
       "      <th>5</th>\n",
       "      <td>median_income</td>\n",
       "      <td>0.523839</td>\n",
       "    </tr>\n",
       "    <tr>\n",
       "      <th>6</th>\n",
       "      <td>bedrooms_per_household</td>\n",
       "      <td>0.026047</td>\n",
       "    </tr>\n",
       "    <tr>\n",
       "      <th>7</th>\n",
       "      <td>rooms_per_household</td>\n",
       "      <td>0.058030</td>\n",
       "    </tr>\n",
       "    <tr>\n",
       "      <th>8</th>\n",
       "      <td>x0_&lt;1H OCEAN</td>\n",
       "      <td>0.011267</td>\n",
       "    </tr>\n",
       "    <tr>\n",
       "      <th>9</th>\n",
       "      <td>x0_INLAND</td>\n",
       "      <td>0.203748</td>\n",
       "    </tr>\n",
       "    <tr>\n",
       "      <th>10</th>\n",
       "      <td>x0_ISLAND</td>\n",
       "      <td>0.000703</td>\n",
       "    </tr>\n",
       "    <tr>\n",
       "      <th>11</th>\n",
       "      <td>x0_NEAR BAY</td>\n",
       "      <td>0.005903</td>\n",
       "    </tr>\n",
       "    <tr>\n",
       "      <th>12</th>\n",
       "      <td>x0_NEAR OCEAN</td>\n",
       "      <td>0.003526</td>\n",
       "    </tr>\n",
       "  </tbody>\n",
       "</table>\n",
       "</div>"
      ],
      "text/plain": [
       "                  features  importance\n",
       "0       housing_median_age    0.060802\n",
       "1              total_rooms    0.019865\n",
       "2           total_bedrooms    0.028840\n",
       "3               population    0.037806\n",
       "4               households    0.019624\n",
       "5            median_income    0.523839\n",
       "6   bedrooms_per_household    0.026047\n",
       "7      rooms_per_household    0.058030\n",
       "8             x0_<1H OCEAN    0.011267\n",
       "9                x0_INLAND    0.203748\n",
       "10               x0_ISLAND    0.000703\n",
       "11             x0_NEAR BAY    0.005903\n",
       "12           x0_NEAR OCEAN    0.003526"
      ]
     },
     "execution_count": 61,
     "metadata": {},
     "output_type": "execute_result"
    }
   ],
   "source": [
    "# Visualisation claire des features qui impactent la valeur des maisons :\n",
    "\n",
    "df_features['importance'] = final_model.feature_importances_\n",
    "df_features"
   ]
  },
  {
   "cell_type": "markdown",
   "id": "067868e0",
   "metadata": {},
   "source": [
    "Quelques observations pour se donner une idée :\n",
    "Le salaire a beaucoup d'impact sur la valeur de la maison.\n",
    "Le nombre de pièces a un fort impact sur la valeur de la maison.\n",
    "Le fait que la maison soit sur île a un très faible impact sur sa valeur, ce qui est assez surprenant.\n",
    "Le fait que la maison soit près de l'océan a peu d'impact sur sa valeur, ce qui est à nouveau surprenant."
   ]
  },
  {
   "cell_type": "code",
   "execution_count": 62,
   "id": "1814cf8a",
   "metadata": {},
   "outputs": [
    {
     "data": {
      "image/png": "[encoded data removed]",
      "text/plain": [
       "<Figure size 720x720 with 1 Axes>"
      ]
     },
     "metadata": {},
     "output_type": "display_data"
    }
   ],
   "source": [
    "plt.figure(figsize=(10, 10))\n",
    "plt.pie(final_model.feature_importances_, \n",
    "        labels = list_features, \n",
    "        autopct='%1.1f%%'\n",
    "       )\n",
    "\n",
    "plt.show()"
   ]
  }
 ],
 "metadata": {
  "kernelspec": {
   "display_name": "Python 3",
   "language": "python",
   "name": "python3"
  },
  "language_info": {
   "codemirror_mode": {
    "name": "ipython",
    "version": 3
   },
   "file_extension": ".py",
   "mimetype": "text/x-python",
   "name": "python",
   "nbconvert_exporter": "python",
   "pygments_lexer": "ipython3",
   "version": "3.8.5"
  }
 },
 "nbformat": 4,
 "nbformat_minor": 5
}
